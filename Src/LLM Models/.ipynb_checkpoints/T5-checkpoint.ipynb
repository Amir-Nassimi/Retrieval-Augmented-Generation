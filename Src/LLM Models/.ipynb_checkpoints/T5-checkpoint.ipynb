{
 "cells": [
  {
   "cell_type": "code",
   "execution_count": null,
   "id": "4d10e664-32bd-4dfa-a508-6f875b27826d",
   "metadata": {},
   "outputs": [],
   "source": [
    "from transformers import AutoModelForSeq2SeqLM, AutoTokenizer\n",
    "model_name = \"google/flan-t5-base\"\n",
    "model = AutoModelForSeq2SeqLM.from_pretrained(model_name)\n",
    "tokenizer = AutoTokenizer.from_pretrained(model_name, use_fast=True)"
   ]
  },
  {
   "cell_type": "code",
   "execution_count": null,
   "id": "737c89df-b44f-4828-85bd-d79675e98b27",
   "metadata": {},
   "outputs": [],
   "source": [
    "prompt = \"Once upon a time - tell me a story\"\n",
    "inputs = tokenizer(prompt, return_tensors = 'pt')\n",
    "outputs = model.generate(inputs['input_ids'], max_new_tokens = 50)\n",
    "generated = tokenizer.decode(outputs.tolist()[0], skip_special_tokens = True)\n",
    "print(generated)"
   ]
  }
 ],
 "metadata": {
  "kernelspec": {
   "display_name": "Python 3 (ipykernel)",
   "language": "python",
   "name": "python3"
  },
  "language_info": {
   "codemirror_mode": {
    "name": "ipython",
    "version": 3
   },
   "file_extension": ".py",
   "mimetype": "text/x-python",
   "name": "python",
   "nbconvert_exporter": "python",
   "pygments_lexer": "ipython3",
   "version": "3.10.14"
  }
 },
 "nbformat": 4,
 "nbformat_minor": 5
}
