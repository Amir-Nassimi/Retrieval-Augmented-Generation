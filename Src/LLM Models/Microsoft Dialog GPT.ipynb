{
 "cells": [
  {
   "cell_type": "code",
   "execution_count": null,
   "id": "a9cc3e4a-1315-4486-b762-d5e16aa634d9",
   "metadata": {},
   "outputs": [],
   "source": [
    "import torch\n",
    "from transformers import AutoModelForCausalLM, AutoTokenizer\n",
    "\n",
    "# Check available devices\n",
    "device = torch.device('cuda' if torch.cuda.is_available() else 'cpu')\n",
    "\n",
    "class DialoGPTModel:\n",
    "    def __init__(self):\n",
    "        self.model_name = \"microsoft/DialoGPT-medium\"\n",
    "        self.tokenizer = AutoTokenizer.from_pretrained(self.model_name)\n",
    "        self.model = AutoModelForCausalLM.from_pretrained(self.model_name).to(device)\n",
    "\n",
    "    def generate_sentence(self, prompt):\n",
    "        input_ids = self.tokenizer.encode(prompt + self.tokenizer.eos_token, return_tensors=\"pt\").to(device)\n",
    "        outputs = self.model.generate(\n",
    "            input_ids=input_ids,\n",
    "            max_length=100,\n",
    "            pad_token_id=self.tokenizer.eos_token_id\n",
    "        )\n",
    "        generated_sentences = self.tokenizer.batch_decode(outputs, skip_special_tokens=True)\n",
    "        return generated_sentences[0].split(prompt)[1]\n",
    "\n",
    "# Singleton instance of the DialoGPTModel\n",
    "dialogpt_model = DialoGPTModel()"
   ]
  },
  {
   "cell_type": "code",
   "execution_count": null,
   "id": "6120f901-ebb1-44b9-9fc2-bb32e6ef9d44",
   "metadata": {},
   "outputs": [],
   "source": [
    "dialogpt_model.generate_sentence('my name is tom')"
   ]
  }
 ],
 "metadata": {
  "kernelspec": {
   "display_name": "Python 3 (ipykernel)",
   "language": "python",
   "name": "python3"
  },
  "language_info": {
   "codemirror_mode": {
    "name": "ipython",
    "version": 3
   },
   "file_extension": ".py",
   "mimetype": "text/x-python",
   "name": "python",
   "nbconvert_exporter": "python",
   "pygments_lexer": "ipython3",
   "version": "3.10.14"
  }
 },
 "nbformat": 4,
 "nbformat_minor": 5
}
