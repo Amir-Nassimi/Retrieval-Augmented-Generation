{
 "cells": [
  {
   "cell_type": "markdown",
   "id": "4b2395ca-f628-4cce-8898-61c85eec5a81",
   "metadata": {},
   "source": [
    "# ReadME"
   ]
  },
  {
   "cell_type": "markdown",
   "id": "5f599b5b-f6f5-4529-8b0c-bbdab05b7530",
   "metadata": {},
   "source": [
    "The Purpose of this source code is to find out about the details of implementation and the way of utilizing the GPT-Neo 125M which is a transformer model designed using EleutherAI's replication of the GPT-3 architecture. \n",
    "\n",
    "This model was trained for 300 billion tokens over 572,300 steps. It was trained as a masked autoregressive language model, using cross-entropy loss. In this way, the model learns an inner representation of the English language that can then be used to extract features useful for downstream tasks. The model is best at what it was pretrained for however, which is generating texts from a prompt. \n",
    "\n",
    "note: You can also use EleutherAI/gpt-neo-1.3B, EleutherAI/gpt-neo-2.7B\n",
    "\n",
    "How ever due to the size of this model and since ti was trained on the Pile, a dataset known to contain profanity, lewd, and otherwise abrasive language. Depending on your usecase GPT-Neo may produce socially unacceptable tex; ergo, it has not been implemented.\n",
    "\n",
    "- Amirali Nassimi"
   ]
  },
  {
   "cell_type": "markdown",
   "id": "50cc016d-67c0-4241-8543-7d1db0c684d7",
   "metadata": {},
   "source": [
    "# Implementation"
   ]
  },
  {
   "cell_type": "code",
   "execution_count": null,
   "id": "8274a5eb-ee31-4e31-aa3b-d19204fe36c2",
   "metadata": {},
   "outputs": [],
   "source": [
    "from transformers import GPTNeoForCausalLM, GPT2Tokenizer"
   ]
  },
  {
   "cell_type": "markdown",
   "id": "ca825141-6eac-4d27-bc72-3d1faf3fdfc7",
   "metadata": {},
   "source": [
    "# Load Model"
   ]
  },
  {
   "cell_type": "code",
   "execution_count": null,
   "id": "2c961192-5f76-4ec4-bdb3-45a7fe8dc922",
   "metadata": {},
   "outputs": [],
   "source": [
    "# Load pre-trained model and tokenizer\n",
    "model_name = \"EleutherAI/gpt-neo-125M\" \n",
    "model = GPTNeoForCausalLM.from_pretrained(model_name)\n",
    "tokenizer = GPT2Tokenizer.from_pretrained(model_name)"
   ]
  },
  {
   "cell_type": "markdown",
   "id": "faf0f885-6e25-4868-b2af-825c1d88eb0b",
   "metadata": {},
   "source": [
    "# Evaluation"
   ]
  },
  {
   "cell_type": "code",
   "execution_count": null,
   "id": "dc69b6ff-4655-4f68-b0c7-cde3b77449fe",
   "metadata": {},
   "outputs": [],
   "source": [
    "# Generate text\n",
    "input_text = \"Once upon a time\"\n",
    "inputs = tokenizer.encode(input_text, return_tensors=\"pt\")\n",
    "outputs = model.generate(inputs, max_length=50, num_return_sequences=1)\n",
    "\n",
    "print(tokenizer.decode(outputs[0], skip_special_tokens=True))"
   ]
  }
 ],
 "metadata": {
  "kernelspec": {
   "display_name": "Python 3 (ipykernel)",
   "language": "python",
   "name": "python3"
  },
  "language_info": {
   "codemirror_mode": {
    "name": "ipython",
    "version": 3
   },
   "file_extension": ".py",
   "mimetype": "text/x-python",
   "name": "python",
   "nbconvert_exporter": "python",
   "pygments_lexer": "ipython3",
   "version": "3.10.14"
  }
 },
 "nbformat": 4,
 "nbformat_minor": 5
}
