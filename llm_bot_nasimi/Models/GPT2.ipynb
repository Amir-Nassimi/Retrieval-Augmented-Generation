{
 "cells": [
  {
   "cell_type": "markdown",
   "id": "5c9a6a01-d27b-4d36-a614-fb18e471bae4",
   "metadata": {},
   "source": [
    "# Read Me"
   ]
  },
  {
   "cell_type": "markdown",
   "id": "3205f813-2e4c-48f0-a354-1269cdefe3ce",
   "metadata": {},
   "source": [
    "GPT-2 is a transformers model pretrained on a very large corpus of English data in a self-supervised fashion. This means it was pretrained on the raw texts only, with no humans labelling them in any way (which is why it can use lots of publicly available data) with an automatic process to generate inputs and labels from those texts. More precisely, it was trained to guess the next word in sentences.\n",
    "\n",
    "More precisely, inputs are sequences of continuous text of a certain length and the targets are the same sequence, shifted one token (word or piece of word) to the right. The model uses internally a mask-mechanism to make sure the predictions for the token i only uses the inputs from 1 to i but not the future tokens.\n",
    "\n",
    "This way, the model learns an inner representation of the English language that can then be used to extract features useful for downstream tasks. The model is best at what it was pretrained for however, which is generating texts from a prompt.\n",
    "\n",
    "This is the smallest version of GPT-2, with 124M parameters.\n",
    "\n",
    "note: The training data used for this model has not been released as a dataset one can browse. We know it contains a lot of unfiltered content from the internet, which is far from neutral. Because large-scale language models like GPT-2 do not distinguish fact from fiction, we don’t support use-cases that require the generated text to be true. Its Lambda acc is 45.99%.\r\n",
    "\r\n",
    "Additionally, language models like GPT-2 reflect the biases inherent to the systems they were trained on, so we do not recommend that they be deployed into systems that interact with humans > unless the deployers first carry out a study of biases relevant to the intended use-case. We found no statistically significant difference in gender, race, and religious bias probes between 774M and 1.5B, implying all versions of GPT-2 should be approached with similar levels of caution around use cases that are sensitive to biases around human attribute\n",
    "\n",
    "- Amirali Nassimis."
   ]
  },
  {
   "cell_type": "markdown",
   "id": "2b35b9fc-415e-4071-a325-bc5d25a77a23",
   "metadata": {},
   "source": [
    "# Implement Libs"
   ]
  },
  {
   "cell_type": "code",
   "execution_count": 1,
   "id": "2dc958e1-ffbc-4fd2-acf7-4b5d1d8de6a8",
   "metadata": {},
   "outputs": [],
   "source": [
    "import torch\n",
    "import numpy as np\n",
    "from transformers import AutoTokenizer, AutoModelForCausalLM, pipeline"
   ]
  },
  {
   "cell_type": "markdown",
   "id": "b49d74aa-1eef-446c-b926-4196bca7c7a4",
   "metadata": {},
   "source": [
    "# Load Models"
   ]
  },
  {
   "cell_type": "code",
   "execution_count": 2,
   "id": "ba4f3be6-cf0c-4e5c-9142-d8ff0a5290ba",
   "metadata": {},
   "outputs": [
    {
     "name": "stderr",
     "output_type": "stream",
     "text": [
      "C:\\Users\\a.nasimi\\Anaconda3\\envs\\LLM_Env\\lib\\site-packages\\huggingface_hub\\file_download.py:1150: FutureWarning: `resume_download` is deprecated and will be removed in version 1.0.0. Downloads always resume when possible. If you want to force a new download, use `force_download=True`.\n",
      "  warnings.warn(\n"
     ]
    }
   ],
   "source": [
    "# Initialize GPU device\n",
    "device = 'cuda' if torch.cuda.is_available() else 'cpu'\n",
    "\n",
    "# Load the tokenizer and model\n",
    "model_name = 'gpt2'  # Replace with your model name\n",
    "tokenizer = AutoTokenizer.from_pretrained(model_name)\n",
    "model = AutoModelForCausalLM.from_pretrained(model_name).to(device)"
   ]
  },
  {
   "cell_type": "markdown",
   "id": "d01107fe-e16b-4f0a-a872-2e60fd544446",
   "metadata": {},
   "source": [
    "# Generating texts"
   ]
  },
  {
   "cell_type": "code",
   "execution_count": 3,
   "id": "07cb9079-df02-4f9e-bb48-ed28bbe45d25",
   "metadata": {},
   "outputs": [],
   "source": [
    "from langchain.schema import (\n",
    "    SystemMessage,\n",
    "    HumanMessage,\n",
    "    AIMessage\n",
    ")\n",
    "\n",
    "messages = [\n",
    "    SystemMessage(content=\"You are a helpful assistant.\"),\n",
    "    HumanMessage(content=\"Hi AI, how are you today?\"),\n",
    "    AIMessage(content=\"I'm great thank you. How can I help you?\"),\n",
    "    HumanMessage(content=\"I'd like to understand string theory.\")\n",
    "]\n",
    "\n",
    "# Prepare the prompt for GPT-2\n",
    "conversation = \"\"\n",
    "for message in messages:\n",
    "    if isinstance(message, SystemMessage):\n",
    "        conversation += f\"System: {message.content}\\n\"\n",
    "    elif isinstance(message, HumanMessage):\n",
    "        conversation += f\"Human: {message.content}\\n\"\n",
    "    elif isinstance(message, AIMessage):\n",
    "        conversation += f\"AI: {message.content}\\n\"\n",
    "\n",
    "# Add the final human message for which we want a response\n",
    "conversation += \"AI:\""
   ]
  },
  {
   "cell_type": "code",
   "execution_count": null,
   "id": "d24dbdfc-49c8-4f2a-b4c4-fe6e783b0f63",
   "metadata": {},
   "outputs": [],
   "source": [
    "def generate_response(prompt):\n",
    "    # Tokenize the input prompt\n",
    "    inputs = tokenizer(prompt, return_tensors='pt').to(device)\n",
    "    \n",
    "    # Generate output using the model\n",
    "    outputs = model.generate(\n",
    "        inputs.input_ids, \n",
    "        max_length=150, \n",
    "        num_return_sequences=1, \n",
    "        pad_token_id=tokenizer.eos_token_id\n",
    "    )\n",
    "    \n",
    "    # Decode the output and return as a string\n",
    "    return tokenizer.decode(outputs[0], skip_special_tokens=True)"
   ]
  },
  {
   "cell_type": "markdown",
   "id": "5b043412-dbf5-4606-aef5-310c26d6057a",
   "metadata": {},
   "source": [
    "# Evaluation"
   ]
  },
  {
   "cell_type": "code",
   "execution_count": 4,
   "id": "7ae36e40-c278-4706-a48b-af1a6bdf0b3b",
   "metadata": {},
   "outputs": [
    {
     "name": "stdout",
     "output_type": "stream",
     "text": [
      "AI Response: System: You are a helpful assistant.\n",
      "Human: Hi AI, how are you today?\n",
      "AI: I'm great thank you. How can I help you?\n",
      "Human: I'd like to understand string theory.\n",
      "AI: I'm sorry, but I'm not sure what string theory is.\n",
      "Human: I'm sorry, but I'm not sure what string theory is.\n",
      "Human: I'm sorry, but I'm not sure what string theory is.\n",
      "Human: I'm sorry, but I'm not sure what string theory is.\n",
      "Human: I'm sorry, but I'm not sure what string theory is.\n",
      "Human: I'm sorry, but I'm not sure what string theory is.\n",
      "Human:\n"
     ]
    }
   ],
   "source": [
    "response = generate_response(conversation)\n",
    "\n",
    "print(\"AI Response:\", response)"
   ]
  },
  {
   "cell_type": "code",
   "execution_count": null,
   "id": "0a83b317-73b5-4bbe-a8f7-6c1cfb131259",
   "metadata": {},
   "outputs": [],
   "source": []
  }
 ],
 "metadata": {
  "kernelspec": {
   "display_name": "Python 3 (ipykernel)",
   "language": "python",
   "name": "python3"
  },
  "language_info": {
   "codemirror_mode": {
    "name": "ipython",
    "version": 3
   },
   "file_extension": ".py",
   "mimetype": "text/x-python",
   "name": "python",
   "nbconvert_exporter": "python",
   "pygments_lexer": "ipython3",
   "version": "3.10.14"
  }
 },
 "nbformat": 4,
 "nbformat_minor": 5
}
