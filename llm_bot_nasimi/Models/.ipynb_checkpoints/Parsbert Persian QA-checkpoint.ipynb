{
 "cells": [
  {
   "cell_type": "markdown",
   "id": "f1ab6643-381d-4a90-8aa1-2a04e63aa755",
   "metadata": {},
   "source": [
    "# Read Me"
   ]
  },
  {
   "cell_type": "markdown",
   "id": "e41ac16a-fc69-4c15-96a1-91475ddf2547",
   "metadata": {},
   "source": [
    "This repository contains the code and resources for a Persian Question Answering System based on transformer architectures. The model is fine-tuned on an extractive dataset from Persian Wikipedia using ParsBERT and is hosted on Hugging Face for easy integration into the projects.\n",
    "\n",
    "note: The F1 Score is 59.12%\n",
    "\n",
    "- Amirali Nassimi"
   ]
  },
  {
   "cell_type": "markdown",
   "id": "08fb0722-e3e2-46f8-af3c-42002eecb8b9",
   "metadata": {},
   "source": [
    "# Implement Libs"
   ]
  },
  {
   "cell_type": "code",
   "execution_count": 3,
   "id": "1305843a-8e77-4354-8550-4de9d676658c",
   "metadata": {},
   "outputs": [],
   "source": [
    "from transformers import pipeline\n",
    "\n",
    "qa_pipeline = pipeline(\"question-answering\", model=\"marzinouri/parsbert-finetuned-persianQA\", device='cuda')"
   ]
  },
  {
   "cell_type": "markdown",
   "id": "3062cd27-6773-481e-a458-ca124d358b5c",
   "metadata": {},
   "source": [
    "# Evaluation"
   ]
  },
  {
   "cell_type": "code",
   "execution_count": 4,
   "id": "0fa34a6b-e1eb-44c6-8a9c-71ba353aac86",
   "metadata": {},
   "outputs": [
    {
     "name": "stdout",
     "output_type": "stream",
     "text": [
      "Answer: تجزیه و تحلیل متون و متنوع‌سازی اطلاعات در زبان‌های انسانی\n"
     ]
    },
    {
     "name": "stderr",
     "output_type": "stream",
     "text": [
      "C:\\Users\\a.nasimi\\Anaconda3\\envs\\LLM_Env\\lib\\site-packages\\transformers\\models\\bert\\modeling_bert.py:439: UserWarning: 1Torch was not compiled with flash attention. (Triggered internally at C:\\cb\\pytorch_1000000000000\\work\\aten\\src\\ATen\\native\\transformers\\cuda\\sdp_utils.cpp:263.)\n",
      "  attn_output = torch.nn.functional.scaled_dot_product_attention(\n"
     ]
    }
   ],
   "source": [
    "context = \"پردازش زبان طبیعی یکی از حوزه‌های مهم در علوم کامپیوتر است که به تجزیه و تحلیل متون و متنوع‌سازی اطلاعات در زبان‌های انسانی می‌پردازد. این حوزه نه‌تنها در ترجمه ماشینی و تحلیل متون مفهومی بلکه در پرسش و پاسخ خودکار و تولید متن نیز کاربردهای بسیار دارد.\"\n",
    "\n",
    "question = \"چه مفاهیمی در پردازش زبان طبیعی مورد استفاده قرار می‌گیرند؟\"\n",
    "\n",
    "answer = qa_pipeline(question=question, context=context)\n",
    "\n",
    "print(\"Answer:\", answer[\"answer\"])"
   ]
  },
  {
   "cell_type": "code",
   "execution_count": 5,
   "id": "2ac32467-eb27-49ec-ab7c-61d4d6376b4e",
   "metadata": {},
   "outputs": [
    {
     "name": "stdout",
     "output_type": "stream",
     "text": [
      "Answer: روی دکمه Sign Up در گوشه بالا سمت راست وبسایت ما کلیک کنید\n"
     ]
    }
   ],
   "source": [
    "context = \"برای ایجاد یک حساب کاربری، روی دکمه Sign Up در گوشه بالا سمت راست وبسایت ما کلیک کنید و دستورالعمل ها را برای تکمیل فرآیند ثبت نام دنبال کنید\"\n",
    "\n",
    "question = \"چگونه م یتوانم یک حساب کاربری ایجاد کنم ؟\"\n",
    "\n",
    "answer = qa_pipeline(question=question, context=context)\n",
    "\n",
    "print(\"Answer:\", answer[\"answer\"])"
   ]
  },
  {
   "cell_type": "code",
   "execution_count": null,
   "id": "7fdca778-cbc2-43e6-991a-cf9d05f5703f",
   "metadata": {},
   "outputs": [],
   "source": []
  }
 ],
 "metadata": {
  "kernelspec": {
   "display_name": "Python 3 (ipykernel)",
   "language": "python",
   "name": "python3"
  },
  "language_info": {
   "codemirror_mode": {
    "name": "ipython",
    "version": 3
   },
   "file_extension": ".py",
   "mimetype": "text/x-python",
   "name": "python",
   "nbconvert_exporter": "python",
   "pygments_lexer": "ipython3",
   "version": "3.10.14"
  }
 },
 "nbformat": 4,
 "nbformat_minor": 5
}
