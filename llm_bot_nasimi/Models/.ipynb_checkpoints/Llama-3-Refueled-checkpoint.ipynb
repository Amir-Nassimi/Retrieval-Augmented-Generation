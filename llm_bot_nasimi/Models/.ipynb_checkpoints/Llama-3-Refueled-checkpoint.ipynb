{
 "cells": [
  {
   "cell_type": "markdown",
   "id": "db05898c-1c5c-423f-86cc-01dd6b0bd92d",
   "metadata": {},
   "source": [
    "# ReadME"
   ]
  },
  {
   "cell_type": "markdown",
   "id": "ab367b1b-9724-4991-9646-8e5dc12c15ca",
   "metadata": {},
   "source": [
    "RefuelLLM-2-small, aka Llama-3-Refueled, is a Llama3-8B base model instruction tuned on a corpus of 2750+ datasets, spanning tasks such as classification, reading comprehension, structured attribute extraction and entity resolution. We're excited to open-source the model for the community to build on top of.\n",
    "\n",
    "The model was both trained on over 4 Billion tokens, spanning 2750+ NLP tasks and its acc is 79.67%.\n",
    "\n",
    "- Amirali Nassimi"
   ]
  },
  {
   "cell_type": "code",
   "execution_count": null,
   "id": "93d70e65-ebe7-44c4-9b0d-d41cce7aa367",
   "metadata": {},
   "outputs": [],
   "source": [
    "import torch\n",
    "from transformers import AutoModelForCausalLM, AutoTokenizer\n",
    "\n",
    "model_id = \"refuelai/Llama-3-Refueled\"\n",
    "tokenizer = AutoTokenizer.from_pretrained(model_id)\n",
    "model = AutoModelForCausalLM.from_pretrained(model_id, torch_dtype=torch.float16, device_map=\"auto\")\n",
    "\n",
    "messages = [{\"role\": \"user\", \"content\": \"Is this comment toxic or non-toxic: RefuelLLM is the new way to label text data!\"}]\n",
    "\n",
    "inputs = tokenizer.apply_chat_template(messages, return_tensors=\"pt\", add_generation_prompt=True).to(\"cuda\")\n",
    "\n",
    "outputs = model.generate(inputs, max_new_tokens=20)\n",
    "print(tokenizer.decode(outputs[0]))"
   ]
  }
 ],
 "metadata": {
  "kernelspec": {
   "display_name": "Python 3 (ipykernel)",
   "language": "python",
   "name": "python3"
  },
  "language_info": {
   "codemirror_mode": {
    "name": "ipython",
    "version": 3
   },
   "file_extension": ".py",
   "mimetype": "text/x-python",
   "name": "python",
   "nbconvert_exporter": "python",
   "pygments_lexer": "ipython3",
   "version": "3.10.14"
  }
 },
 "nbformat": 4,
 "nbformat_minor": 5
}
