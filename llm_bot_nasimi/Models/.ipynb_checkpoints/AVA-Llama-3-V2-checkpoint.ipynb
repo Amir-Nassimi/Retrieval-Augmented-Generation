{
 "cells": [
  {
   "cell_type": "markdown",
   "id": "84e823dc-e4c6-4218-a184-883da3f6d981",
   "metadata": {},
   "source": [
    "# README"
   ]
  },
  {
   "cell_type": "markdown",
   "id": "b1f8e598-0ae2-4349-86c6-9e93aee70ed6",
   "metadata": {},
   "source": [
    "The Purpose of this source code is to find out about the details of implementation and the way of utilizing the AVA-LAMA3 Model. This Persian model shows great potential on generating farsi texts. Its acc is 75% (Rouge)."
   ]
  },
  {
   "cell_type": "markdown",
   "id": "b99233ea-7539-4560-bf2b-5010e0eea6c8",
   "metadata": {},
   "source": [
    "# Implementation"
   ]
  },
  {
   "cell_type": "code",
   "execution_count": 2,
   "id": "4d850f30-d246-4f76-8d89-359df575f349",
   "metadata": {},
   "outputs": [],
   "source": [
    "import torch\n",
    "from transformers import AutoModelForCausalLM, AutoTokenizer, GenerationConfig"
   ]
  },
  {
   "cell_type": "markdown",
   "id": "87f6f2bc-1978-4d01-bc2f-6922c0c9db4f",
   "metadata": {},
   "source": [
    "# Loading Model"
   ]
  },
  {
   "cell_type": "code",
   "execution_count": 8,
   "id": "7e77b7aa-e7a1-4fcb-b653-343d1f1edd66",
   "metadata": {},
   "outputs": [
    {
     "name": "stderr",
     "output_type": "stream",
     "text": [
      "The `load_in_4bit` and `load_in_8bit` arguments are deprecated and will be removed in the future versions. Please, pass a `BitsAndBytesConfig` object in `quantization_config` argument instead.\n"
     ]
    },
    {
     "data": {
      "application/vnd.jupyter.widget-view+json": {
       "model_id": "221e7e1eecbf416288c90e4340d13037",
       "version_major": 2,
       "version_minor": 0
      },
      "text/plain": [
       "Loading checkpoint shards:   0%|          | 0/4 [00:00<?, ?it/s]"
      ]
     },
     "metadata": {},
     "output_type": "display_data"
    }
   ],
   "source": [
    "model_name_or_id = \"MehdiHosseiniMoghadam/AVA-Llama-3-V2\"\n",
    "model = AutoModelForCausalLM.from_pretrained(model_name_or_id, torch_dtype=torch.float16, low_cpu_mem_usage=True, load_in_8bit=True)\n",
    "tokenizer = AutoTokenizer.from_pretrained(model_name_or_id)"
   ]
  },
  {
   "cell_type": "markdown",
   "id": "9f0a5774-51a2-4ddd-9413-8fec093b373a",
   "metadata": {},
   "source": [
    "# Define Prompts"
   ]
  },
  {
   "cell_type": "code",
   "execution_count": 9,
   "id": "8e9f1932-5b34-4bc3-b40b-bd42ea94238c",
   "metadata": {},
   "outputs": [],
   "source": [
    "def GetAnswer(prompt):\n",
    "    prompt = f\"### Human:{prompt}\\n### Assistant:\"\n",
    "    \n",
    "    # inputs = tokenizer(prompt, return_tensors=\"pt\").to(\"cuda\")\n",
    "    inputs = tokenizer(prompt, return_tensors=\"pt\")\n",
    "    \n",
    "    generation_config = GenerationConfig(\n",
    "        do_sample=True,\n",
    "        top_k=1,\n",
    "        temperature=0.99,\n",
    "        max_new_tokens=90,\n",
    "        pad_token_id=tokenizer.eos_token_id\n",
    "    )\n",
    "    \n",
    "    outputs = model.generate(**inputs, generation_config=generation_config)\n",
    "    print(tokenizer.decode(outputs[0], skip_special_tokens=True))"
   ]
  },
  {
   "cell_type": "markdown",
   "id": "518dc9f7-df56-4252-ba0f-b9bddc1764d5",
   "metadata": {},
   "source": [
    "# Evaluation"
   ]
  },
  {
   "cell_type": "code",
   "execution_count": 12,
   "id": "756c9ebc-5c69-4611-8453-58f7a8fe161e",
   "metadata": {},
   "outputs": [
    {
     "name": "stdout",
     "output_type": "stream",
     "text": [
      "### Human:خوبی سلام\n",
      "### Assistant:سلام! چطور می توانم به شما کمک کنم؟\n",
      "CPU times: total: 28.8 s\n",
      "Wall time: 11.7 s\n"
     ]
    }
   ],
   "source": [
    "%%time\n",
    "prompt = 'خوبی سلام'\n",
    "GetAnswer(prompt)"
   ]
  },
  {
   "cell_type": "code",
   "execution_count": 13,
   "id": "c3a984b1-7423-4177-b805-dd7f43f6adcb",
   "metadata": {},
   "outputs": [
    {
     "name": "stdout",
     "output_type": "stream",
     "text": [
      "### Human:تو اسمت چیه و واسه چی اومدی اینجا\n",
      "### Assistant:سلام!من یک مدل زبان هوش مصنوعی هستم و برای کمک به پاسخ به سوالات و انجام وظایف مختلف اومدم اینجا. تو چی هستی و چرا اینجا اومدی؟ میتونی به من بگویی؟\n",
      "CPU times: total: 1min 57s\n",
      "Wall time: 46 s\n"
     ]
    }
   ],
   "source": [
    "%%time\n",
    "prompt = 'تو اسمت چیه و واسه چی اومدی اینجا'\n",
    "GetAnswer(prompt)"
   ]
  },
  {
   "cell_type": "code",
   "execution_count": null,
   "id": "1588134c-026f-42ff-af6e-30c1e27ef0c9",
   "metadata": {},
   "outputs": [],
   "source": []
  }
 ],
 "metadata": {
  "kernelspec": {
   "display_name": "Python 3 (ipykernel)",
   "language": "python",
   "name": "python3"
  },
  "language_info": {
   "codemirror_mode": {
    "name": "ipython",
    "version": 3
   },
   "file_extension": ".py",
   "mimetype": "text/x-python",
   "name": "python",
   "nbconvert_exporter": "python",
   "pygments_lexer": "ipython3",
   "version": "3.10.14"
  }
 },
 "nbformat": 4,
 "nbformat_minor": 5
}
