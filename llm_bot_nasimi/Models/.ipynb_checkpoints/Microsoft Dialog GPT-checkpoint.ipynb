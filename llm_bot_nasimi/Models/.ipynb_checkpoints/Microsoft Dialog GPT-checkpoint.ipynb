{
 "cells": [
  {
   "cell_type": "markdown",
   "id": "fe884e66-db51-4a47-ad21-964d2b1855d0",
   "metadata": {},
   "source": [
    "# Read ME"
   ]
  },
  {
   "cell_type": "markdown",
   "id": "c27f1d6a-4a44-42d9-8d86-c36701b9dc11",
   "metadata": {},
   "source": [
    "DialoGPT is a SOTA large-scale pretrained dialogue response generation model for multiturn conversations. The human evaluation results indicate that the response generated from DialoGPT is comparable to human response quality under a single-turn conversation Turing test. The model is trained on 147M multi-turn dialogue from Reddit discussion thread.\n",
    "\n",
    "- Amirali Nassimi"
   ]
  },
  {
   "cell_type": "markdown",
   "id": "630d7c8e-1d0e-476d-b081-0952d27ab6b0",
   "metadata": {},
   "source": [
    "# Implement Libs"
   ]
  },
  {
   "cell_type": "code",
   "execution_count": null,
   "id": "db284ab2-ae2a-4eba-bd79-e8caf3a20cc8",
   "metadata": {},
   "outputs": [],
   "source": [
    "import torch\n",
    "from transformers import AutoModelForCausalLM, AutoTokenizer\n",
    "\n",
    "# Check available devices\n",
    "device = torch.device('cuda' if torch.cuda.is_available() else 'cpu')"
   ]
  },
  {
   "cell_type": "markdown",
   "id": "eb4d8805-f705-4061-bf14-e18e3bdb8141",
   "metadata": {},
   "source": [
    "# Implement Generating"
   ]
  },
  {
   "cell_type": "code",
   "execution_count": null,
   "id": "a9cc3e4a-1315-4486-b762-d5e16aa634d9",
   "metadata": {},
   "outputs": [],
   "source": [
    "class DialoGPTModel:\n",
    "    def __init__(self):\n",
    "        self.model_name = \"microsoft/DialoGPT-medium\"\n",
    "        self.tokenizer = AutoTokenizer.from_pretrained(self.model_name)\n",
    "        self.model = AutoModelForCausalLM.from_pretrained(self.model_name).to(device)\n",
    "\n",
    "    def generate_sentence(self, prompt):\n",
    "        input_ids = self.tokenizer.encode(prompt + self.tokenizer.eos_token, return_tensors=\"pt\").to(device)\n",
    "        outputs = self.model.generate(\n",
    "            input_ids=input_ids,\n",
    "            max_length=100,\n",
    "            pad_token_id=self.tokenizer.eos_token_id\n",
    "        )\n",
    "        generated_sentences = self.tokenizer.batch_decode(outputs, skip_special_tokens=True)\n",
    "        return generated_sentences[0].split(prompt)[1]\n",
    "\n",
    "# Singleton instance of the DialoGPTModel\n",
    "dialogpt_model = DialoGPTModel()"
   ]
  },
  {
   "cell_type": "code",
   "execution_count": null,
   "id": "6120f901-ebb1-44b9-9fc2-bb32e6ef9d44",
   "metadata": {},
   "outputs": [],
   "source": [
    "dialogpt_model.generate_sentence('my name is tom')"
   ]
  }
 ],
 "metadata": {
  "kernelspec": {
   "display_name": "Python 3 (ipykernel)",
   "language": "python",
   "name": "python3"
  },
  "language_info": {
   "codemirror_mode": {
    "name": "ipython",
    "version": 3
   },
   "file_extension": ".py",
   "mimetype": "text/x-python",
   "name": "python",
   "nbconvert_exporter": "python",
   "pygments_lexer": "ipython3",
   "version": "3.10.14"
  }
 },
 "nbformat": 4,
 "nbformat_minor": 5
}
